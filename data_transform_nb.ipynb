{
 "cells": [
  {
   "cell_type": "code",
   "execution_count": null,
   "metadata": {},
   "outputs": [],
   "source": [
    "import pandas as pd\n",
    "from data_tranform_class import DataTransform\n",
    "from db_utils import RDSDatabaseConnector \n",
    "\n",
    "\n",
    "rds_connector = RDSDatabaseConnector()\n",
    "\n",
    "rds_connector.connect()\n",
    "\n",
    "df = rds_connector.load_data_from_csv(file_path='loan_payments_whole.csv')\n"
   ]
  },
  {
   "cell_type": "code",
   "execution_count": null,
   "metadata": {},
   "outputs": [],
   "source": [
    "data_transformer = DataTransform(df)\n",
    "\n",
    "date_columns = ['issue_date', 'earliest_credit_line', 'last_payment_date', 'next_payment_date', 'last_credit_pull_date']\n",
    "categorical_columns = ['employment_length', 'home_ownership', 'verification_status', 'loan_status',\n",
    "                        'payment_plan', 'purpose', 'grade', 'sub_grade', 'application_type', 'term']\n",
    "\n",
    "data_transformer.convert_dates_to_datetime(date_columns)\n",
    "data_transformer.convert_categorical_columns(categorical_columns)\n",
    "\n",
    "\n",
    "rds_connector.save_data_to_csv(data_transformer.df, file_path='updated_loan_payments.csv', index=False)\n"
   ]
  },
  {
   "cell_type": "code",
   "execution_count": null,
   "metadata": {},
   "outputs": [],
   "source": [
    "from data_frame_info import DataFrameInfo\n",
    "\n",
    "\n",
    "df_info = DataFrameInfo(df) \n",
    "\n",
    "\n",
    "# print(df_info.count_null_values()) # looking at which the percentages of null values for each column\n",
    "\n",
    "# columns to impute: funded_amount (5.5%), term (8.7%) int_rate (9.5%), employment length (3.9%), \n",
    "# drop null rows: last_payment_date (0.13%), last_credit_pull_date (0.013%) collections_12_mths_ex_med (0.09%)\n",
    "# columns to drop (high number of NULLS): mths_since_last_delinq (57%), mths_since_last_record (88%), next_payment_date (60%), mths_since_last_major_derog (86%)"
   ]
  },
  {
   "cell_type": "code",
   "execution_count": null,
   "metadata": {},
   "outputs": [],
   "source": [
    "\n",
    "# dropping the null rows\n",
    "\n",
    "\n",
    "columns_to_drop_null_rows = ['last_payment_date', 'last_credit_pull_date', 'collections_12_mths_ex_med']\n",
    "\n",
    "data_transformer.drop_rows(dropped_rows=columns_to_drop_null_rows)\n",
    "\n",
    "# print(data_transformer.df.info())\n",
    "\n",
    "\n",
    "rds_connector.save_data_to_csv(data_transformer.df, file_path='updated_loan_payments.csv', index=False)\n",
    "\n"
   ]
  },
  {
   "cell_type": "code",
   "execution_count": null,
   "metadata": {},
   "outputs": [],
   "source": [
    "# dropping columns with very high amount of nulls 57%+\n",
    "\n",
    "\n",
    "\n",
    "columns_to_drop = ['mths_since_last_delinq', 'mths_since_last_record', 'next_payment_date', 'mths_since_last_major_derog']\n",
    "\n",
    "data_transformer.drop_columns(columns_to_drop)\n",
    "\n",
    "# print(data_transformer.df.info())\n",
    "\n",
    "\n",
    "rds_connector.save_data_to_csv(data_transformer.df, file_path='updated_loan_payments.csv', index=False)\n"
   ]
  },
  {
   "cell_type": "code",
   "execution_count": null,
   "metadata": {},
   "outputs": [],
   "source": [
    "from plotter_class import Plotter\n",
    "\n",
    "# data_plotter = Plotter(df)\n",
    "\n",
    "\n",
    "# data_plotter.discrete_probability_distribution('term') # use median\n",
    "\n",
    "# data_plotter.discrete_probability_distribution('employment_length') # use median\n",
    "\n",
    "\n"
   ]
  },
  {
   "cell_type": "code",
   "execution_count": null,
   "metadata": {},
   "outputs": [],
   "source": [
    "data_transformer.impute_mode('term')\n",
    "data_transformer.impute_mode('employment_length')\n",
    "\n",
    "\n",
    "rds_connector.save_data_to_csv(data_transformer.df, file_path='updated_loan_payments.csv', index=False)"
   ]
  },
  {
   "cell_type": "code",
   "execution_count": null,
   "metadata": {},
   "outputs": [],
   "source": [
    "\n",
    "\n",
    "# data_plotter = Plotter(df)\n",
    "\n",
    "\n",
    "# data_plotter.histogram('int_rate') # mean\n",
    "# data_plotter.kde_plot('funded_amount')  # mean\n",
    "\n",
    "data_transformer.impute_mean('int_rate')\n",
    "data_transformer.impute_mean('funded_amount')\n",
    "\n",
    "rds_connector.save_data_to_csv(data_transformer.df, file_path='updated_loan_payments.csv', index=False)\n",
    "\n"
   ]
  },
  {
   "cell_type": "code",
   "execution_count": null,
   "metadata": {},
   "outputs": [],
   "source": [
    "df_updated = rds_connector.load_data_from_csv(file_path='updated_loan_payments.csv')\n",
    "\n",
    "df_info = DataFrameInfo(df_updated) \n",
    "\n",
    "# print(df_updated.columns)\n",
    "\n",
    "\n",
    "# print(df_info.count_null_values())\n",
    "\n",
    "\n",
    "\n",
    "\n",
    "# numeric_data = ['loan_amount', 'funded_amount', 'funded_amount_inv', 'int_rate', 'instalment', 'annual_inc', 'dti', \n",
    "# 'delinq_2yrs', 'inq_last_6mths', 'open_accounts', 'total_accounts', 'out_prncp', 'out_prncp_inv', 'total_payment', \n",
    "# 'total_payment_inv', 'total_rec_prncp', 'total_rec_int', 'total_rec_late_fee', 'recoveries', 'collection_recovery_fee', 'last_payment_amount', 'collections_12_mths_ex_med']"
   ]
  },
  {
   "cell_type": "code",
   "execution_count": null,
   "metadata": {},
   "outputs": [],
   "source": [
    "# visualising removal of NULL values\n",
    "\n",
    "\n",
    "# data_plotter.compare_distributions('funded_amount', df, df_updated)\n"
   ]
  },
  {
   "cell_type": "code",
   "execution_count": null,
   "metadata": {},
   "outputs": [],
   "source": [
    "# data_plotter_updated = Plotter(df_updated)\n",
    "\n",
    "# numeric_features = ['loan_amount', 'funded_amount', 'funded_amount_inv', 'int_rate', 'instalment', 'annual_inc', 'open_accounts', 'total_accounts', 'total_payment', \n",
    "# 'total_payment_inv', 'total_rec_prncp', 'total_rec_int', 'total_rec_late_fee', 'recoveries', 'collection_recovery_fee', 'last_payment_amount']\n",
    "\n",
    "# data_plotter_updated.kde_hist_multi(numeric_features)\n"
   ]
  },
  {
   "cell_type": "code",
   "execution_count": null,
   "metadata": {},
   "outputs": [],
   "source": [
    "from data_frame_info import DataFrameInfo\n",
    "\n",
    "# df_info = DataFrameInfo(df_updated)\n",
    "\n",
    "# df_info.data_skew(numeric_features)\n",
    "\n",
    "# df_info.extract_statistical_values(numeric_features)\n",
    "\n",
    "# judging by the kde plots and the skew data all columns on numeric_features but int_rate seem quite positively skewed"
   ]
  },
  {
   "cell_type": "code",
   "execution_count": null,
   "metadata": {},
   "outputs": [],
   "source": [
    "# comparing boxcox and log transformations\n",
    "\n",
    "# df_info.compare_transformations('total_rec_int')\n",
    "\n",
    "# loan_amound - box cox, funded_amount - box cox, funded_amount_inv - log, int_rate box cox,  instalment box cox, annual_inc box cox, \n",
    "# open_accounts box cox, total_accounts box cox, total_payment box cox, total_payment_inv log, total_rec_prncp log, total_rec_int box cox,\n",
    "# total_rec_late_fee log, recoveries log, collection_recovery_fee log, last_payment_amount log"
   ]
  },
  {
   "cell_type": "code",
   "execution_count": null,
   "metadata": {},
   "outputs": [],
   "source": [
    "# transforming skew box cox columns\n",
    "\n",
    "data_transformer = DataTransform(df_updated.copy())\n",
    "\n",
    "data_transformer.boxcox_transform('loan_amount')\n",
    "data_transformer.boxcox_transform('funded_amount')\n",
    "data_transformer.boxcox_transform('int_rate')\n",
    "data_transformer.boxcox_transform('instalment')\n",
    "data_transformer.boxcox_transform('annual_inc')\n",
    "data_transformer.boxcox_transform('open_accounts')\n",
    "data_transformer.boxcox_transform('total_accounts')\n",
    "data_transformer.boxcox_transform('total_payment')\n",
    "data_transformer.boxcox_transform('total_rec_int')\n",
    "\n",
    "rds_connector.save_data_to_csv(data_transformer.df, file_path='updated_2_loan_payments.csv', index=False) # skew transformed csv file\n"
   ]
  },
  {
   "cell_type": "code",
   "execution_count": null,
   "metadata": {},
   "outputs": [],
   "source": [
    "# transforming skew log columns\n",
    "\n",
    "data_transformer.log_transform('funded_amount_inv')\n",
    "data_transformer.log_transform('total_payment_inv')\n",
    "data_transformer.log_transform('total_rec_prncp')\n",
    "data_transformer.log_transform('total_rec_late_fee')\n",
    "data_transformer.log_transform('recoveries')\n",
    "data_transformer.log_transform('collection_recovery_fee')\n",
    "data_transformer.log_transform('last_payment_amount')\n",
    "\n",
    "rds_connector.save_data_to_csv(data_transformer.df, file_path='updated_2_loan_payments.csv', index=False) # skew transformed csv file\n"
   ]
  },
  {
   "cell_type": "code",
   "execution_count": null,
   "metadata": {},
   "outputs": [],
   "source": [
    "# checking skew transformation\n",
    "\n",
    "df_updated_2 = rds_connector.load_data_from_csv(file_path='updated_2_loan_payments.csv')\n",
    "\n",
    "df_info = DataFrameInfo(df_updated_2)\n",
    "\n",
    "numeric_features = ['loan_amount', 'funded_amount', 'funded_amount_inv', 'int_rate', 'instalment', 'annual_inc', 'open_accounts', 'total_accounts', 'total_payment', \n",
    "                    'total_payment_inv', 'total_rec_prncp', 'total_rec_int', 'total_rec_late_fee', 'recoveries', 'collection_recovery_fee', 'last_payment_amount']\n",
    "\n",
    "# df_info.data_skew(numeric_features)\n",
    "\n",
    "data_plotter = Plotter(df_updated_2)\n",
    "\n",
    "# data_plotter.compare_distributions('last_payment_amount', df_updated, df_updated_2)"
   ]
  },
  {
   "cell_type": "code",
   "execution_count": null,
   "metadata": {},
   "outputs": [],
   "source": [
    "# looking for outliers using box plots and hist\n",
    "\n",
    "# data_plotter.box_plot('last_payment_amount')\n",
    "\n",
    "# data_plotter.histogram('last_payment_amount')\n",
    "\n",
    "# columns_to_remove_outliers = ['loan_amount', 'funded_amount', 'funded_amount_inv', 'int_rate', 'instalment', 'annual_inc', 'open_accounts', 'total_accounts', 'total_payment', \n",
    "# 'total_payment_inv', 'total_rec_prncp', 'total_rec_int']\n",
    "\n"
   ]
  },
  {
   "cell_type": "code",
   "execution_count": 273,
   "metadata": {},
   "outputs": [
    {
     "ename": "AttributeError",
     "evalue": "'DataTransform' object has no attribute 'remove_outliers_zscore'",
     "output_type": "error",
     "traceback": [
      "\u001b[0;31m---------------------------------------------------------------------------\u001b[0m",
      "\u001b[0;31mAttributeError\u001b[0m                            Traceback (most recent call last)",
      "\u001b[1;32m/Users/robert_adpa_93/Documents/GitHub/exploratory-data-analysis---customer-loans-in-finance473/data_transform_nb.ipynb Cell 18\u001b[0m line \u001b[0;36m5\n\u001b[1;32m      <a href='vscode-notebook-cell:/Users/robert_adpa_93/Documents/GitHub/exploratory-data-analysis---customer-loans-in-finance473/data_transform_nb.ipynb#X30sZmlsZQ%3D%3D?line=0'>1</a>\u001b[0m \u001b[39m# removing the outlies using the zscore method\u001b[39;00m\n\u001b[1;32m      <a href='vscode-notebook-cell:/Users/robert_adpa_93/Documents/GitHub/exploratory-data-analysis---customer-loans-in-finance473/data_transform_nb.ipynb#X30sZmlsZQ%3D%3D?line=2'>3</a>\u001b[0m data_transformer \u001b[39m=\u001b[39m DataTransform(df_updated_2\u001b[39m.\u001b[39mcopy())\n\u001b[0;32m----> <a href='vscode-notebook-cell:/Users/robert_adpa_93/Documents/GitHub/exploratory-data-analysis---customer-loans-in-finance473/data_transform_nb.ipynb#X30sZmlsZQ%3D%3D?line=4'>5</a>\u001b[0m data_transformer\u001b[39m.\u001b[39;49mremove_outliers_zscore(\u001b[39m'\u001b[39m\u001b[39mloan_amount\u001b[39m\u001b[39m'\u001b[39m)\n\u001b[1;32m      <a href='vscode-notebook-cell:/Users/robert_adpa_93/Documents/GitHub/exploratory-data-analysis---customer-loans-in-finance473/data_transform_nb.ipynb#X30sZmlsZQ%3D%3D?line=5'>6</a>\u001b[0m data_transformer\u001b[39m.\u001b[39mremove_outliers_zscore(\u001b[39m'\u001b[39m\u001b[39mfunded_amount\u001b[39m\u001b[39m'\u001b[39m)\n\u001b[1;32m      <a href='vscode-notebook-cell:/Users/robert_adpa_93/Documents/GitHub/exploratory-data-analysis---customer-loans-in-finance473/data_transform_nb.ipynb#X30sZmlsZQ%3D%3D?line=6'>7</a>\u001b[0m data_transformer\u001b[39m.\u001b[39mremove_outliers_zscore(\u001b[39m'\u001b[39m\u001b[39mfunded_amount_inv\u001b[39m\u001b[39m'\u001b[39m)\n",
      "\u001b[0;31mAttributeError\u001b[0m: 'DataTransform' object has no attribute 'remove_outliers_zscore'"
     ]
    }
   ],
   "source": [
    "# removing the outlies using the zscore method\n",
    "\n",
    "data_transformer = DataTransform(df_updated_2.copy())\n",
    "\n",
    "data_transformer.remove_outliers_zscore('loan_amount')\n",
    "data_transformer.remove_outliers_zscore('funded_amount')\n",
    "data_transformer.remove_outliers_zscore('funded_amount_inv')\n",
    "data_transformer.remove_outliers_zscore('int_rate')\n",
    "data_transformer.remove_outliers_zscore('instalment')\n",
    "data_transformer.remove_outliers_zscore('annual_inc')\n",
    "data_transformer.remove_outliers_zscore('open_accounts')\n",
    "data_transformer.remove_outliers_zscore('total_accounts')\n",
    "data_transformer.remove_outliers_zscore('total_payment')\n",
    "data_transformer.remove_outliers_zscore('total_payment_inv')\n",
    "data_transformer.remove_outliers_zscore('total_rec_prncp')\n",
    "data_transformer.remove_outliers_zscore('total_rec_int')\n",
    "\n",
    "rds_connector.save_data_to_csv(data_transformer.df, file_path='updated_3_loan_payments.csv', index=False) # no outliers csv file"
   ]
  }
 ],
 "metadata": {
  "kernelspec": {
   "display_name": "base",
   "language": "python",
   "name": "python3"
  },
  "language_info": {
   "codemirror_mode": {
    "name": "ipython",
    "version": 3
   },
   "file_extension": ".py",
   "mimetype": "text/x-python",
   "name": "python",
   "nbconvert_exporter": "python",
   "pygments_lexer": "ipython3",
   "version": "3.11.5"
  }
 },
 "nbformat": 4,
 "nbformat_minor": 2
}
